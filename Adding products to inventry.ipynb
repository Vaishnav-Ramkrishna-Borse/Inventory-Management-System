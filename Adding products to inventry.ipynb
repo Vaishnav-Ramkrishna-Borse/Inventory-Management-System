{
 "cells": [
  {
   "cell_type": "code",
   "execution_count": 33,
   "id": "a5bbc40d",
   "metadata": {},
   "outputs": [
    {
     "name": "stdout",
     "output_type": "stream",
     "text": [
      "Enter product id: 1031\n",
      "Enter name: Speaker\n",
      "Enter price: 400\n",
      "Enter quantity: 50\n",
      "Enter weight per quantity: 700grams\n",
      "Enter manufacturing date: \n",
      "Enter expiry date: \n"
     ]
    }
   ],
   "source": [
    "fd = open(\"record.json\",'r')\n",
    "r = fd.read()\n",
    "fd.close()\n",
    "\n",
    "import json\n",
    "record = json.loads(r)\n",
    "\n",
    "import time\n",
    "t = time.ctime() #For time at which products are added in inventory\n",
    "\n",
    "prod_id = input(\"Enter product id: \")\n",
    "name = input(\"Enter name: \")\n",
    "pr = int(input(\"Enter price: \"))\n",
    "qn = int(input(\"Enter quantity: \"))\n",
    "wt = input(\"Enter weight per quantity: \")\n",
    "mfd = input(\"Enter manufacturing date: \")\n",
    "exd = input(\"Enter expiry date: \")\n",
    "\n",
    "if prod_id in record.keys():\n",
    "    record[prod_id] = {'name': name,'pr': pr,'qn': qn+record[prod_id]['qn'],'wt':wt,'mfd':mfd,'exd':exd,'Atime':t}\n",
    "else:\n",
    "    record[prod_id] = {'name': name,'pr': pr,'qn': qn,'wt':wt,'mfd':mfd,'exd':exd,'Atime':t}\n",
    "    \n",
    "js = json.dumps(record)\n",
    "\n",
    "fd = open(\"record.json\",'w')\n",
    "fd.write(js)\n",
    "fd.close()"
   ]
  },
  {
   "cell_type": "code",
   "execution_count": null,
   "id": "4b027bb2",
   "metadata": {},
   "outputs": [],
   "source": []
  }
 ],
 "metadata": {
  "kernelspec": {
   "display_name": "Python 3",
   "language": "python",
   "name": "python3"
  },
  "language_info": {
   "codemirror_mode": {
    "name": "ipython",
    "version": 3
   },
   "file_extension": ".py",
   "mimetype": "text/x-python",
   "name": "python",
   "nbconvert_exporter": "python",
   "pygments_lexer": "ipython3",
   "version": "3.8.8"
  }
 },
 "nbformat": 4,
 "nbformat_minor": 5
}
